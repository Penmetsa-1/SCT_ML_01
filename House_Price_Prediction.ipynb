{
  "nbformat": 4,
  "nbformat_minor": 0,
  "metadata": {
    "colab": {
      "provenance": []
    },
    "kernelspec": {
      "name": "python3",
      "display_name": "Python 3"
    },
    "language_info": {
      "name": "python"
    }
  },
  "cells": [
    {
      "cell_type": "code",
      "execution_count": 4,
      "metadata": {
        "colab": {
          "base_uri": "https://localhost:8080/"
        },
        "id": "Wl_4lsVfJ3KZ",
        "outputId": "c4f63030-396d-45cb-c64f-9b8581299db3"
      },
      "outputs": [
        {
          "output_type": "stream",
          "name": "stdout",
          "text": [
            "Columns in training data: ['Id', 'MSSubClass', 'MSZoning', 'LotFrontage', 'LotArea', 'Street', 'Alley', 'LotShape', 'LandContour', 'Utilities', 'LotConfig', 'LandSlope', 'Neighborhood', 'Condition1', 'Condition2', 'BldgType', 'HouseStyle', 'OverallQual', 'OverallCond', 'YearBuilt', 'YearRemodAdd', 'RoofStyle', 'RoofMatl', 'Exterior1st', 'Exterior2nd', 'MasVnrType', 'MasVnrArea', 'ExterQual', 'ExterCond', 'Foundation', 'BsmtQual', 'BsmtCond', 'BsmtExposure', 'BsmtFinType1', 'BsmtFinSF1', 'BsmtFinType2', 'BsmtFinSF2', 'BsmtUnfSF', 'TotalBsmtSF', 'Heating', 'HeatingQC', 'CentralAir', 'Electrical', '1stFlrSF', '2ndFlrSF', 'LowQualFinSF', 'GrLivArea', 'BsmtFullBath', 'BsmtHalfBath', 'FullBath', 'HalfBath', 'BedroomAbvGr', 'KitchenAbvGr', 'KitchenQual', 'TotRmsAbvGrd', 'Functional', 'Fireplaces', 'FireplaceQu', 'GarageType', 'GarageYrBlt', 'GarageFinish', 'GarageCars', 'GarageArea', 'GarageQual', 'GarageCond', 'PavedDrive', 'WoodDeckSF', 'OpenPorchSF', 'EnclosedPorch', '3SsnPorch', 'ScreenPorch', 'PoolArea', 'PoolQC', 'Fence', 'MiscFeature', 'MiscVal', 'MoSold', 'YrSold', 'SaleType', 'SaleCondition', 'SalePrice']\n",
            "Missing values in training data:\n",
            " Id                 0\n",
            "MSSubClass         0\n",
            "MSZoning           0\n",
            "LotFrontage      259\n",
            "LotArea            0\n",
            "                ... \n",
            "MoSold             0\n",
            "YrSold             0\n",
            "SaleType           0\n",
            "SaleCondition      0\n",
            "SalePrice          0\n",
            "Length: 81, dtype: int64\n",
            "Validation Mean Squared Error: 2806426667.25\n",
            "Validation R² Score: 0.6341\n",
            "✅ Submission file 'House_price_prediction.csv' created successfully.\n"
          ]
        }
      ],
      "source": [
        "import pandas as pd\n",
        "from sklearn.linear_model import LinearRegression\n",
        "from sklearn.model_selection import train_test_split\n",
        "from sklearn.metrics import mean_squared_error, r2_score\n",
        "\n",
        "# Load datasets\n",
        "df_train = pd.read_csv(\"train.csv\")\n",
        "df_test = pd.read_csv(\"test.csv\")\n",
        "\n",
        "# Display basic info\n",
        "print(\"Columns in training data:\", df_train.columns.tolist())\n",
        "print(\"Missing values in training data:\\n\", df_train.isnull().sum())\n",
        "\n",
        "# Define input and target columns\n",
        "input_features = ['GrLivArea', 'BedroomAbvGr', 'FullBath']\n",
        "output_label = 'SalePrice'\n",
        "\n",
        "# Prepare training data\n",
        "X_data = df_train[input_features]\n",
        "y_data = df_train[output_label]\n",
        "\n",
        "# Split into training and validation sets\n",
        "X_tr, X_val, y_tr, y_val = train_test_split(X_data, y_data, test_size=0.2, random_state=42)\n",
        "\n",
        "# Train the model\n",
        "lin_reg = LinearRegression()\n",
        "lin_reg.fit(X_tr, y_tr)\n",
        "\n",
        "# Predict and evaluate\n",
        "val_predictions = lin_reg.predict(X_val)\n",
        "mse = mean_squared_error(y_val, val_predictions)\n",
        "r2 = r2_score(y_val, val_predictions)\n",
        "\n",
        "print(f\"Validation Mean Squared Error: {mse:.2f}\")\n",
        "print(f\"Validation R² Score: {r2:.4f}\")\n",
        "\n",
        "# Predict on test data\n",
        "X_test_final = df_test[input_features]\n",
        "final_predictions = lin_reg.predict(X_test_final)\n",
        "\n",
        "# Prepare submission\n",
        "submission_df = pd.read_csv(\"sample_submission.csv\")\n",
        "submission_df['SalePrice'] = final_predictions\n",
        "submission_df.to_csv(\"House_price_prediction.csv\", index=False)\n",
        "\n",
        "print(\"✅ Submission file 'House_price_prediction.csv' created successfully.\")\n"
      ]
    }
  ]
}